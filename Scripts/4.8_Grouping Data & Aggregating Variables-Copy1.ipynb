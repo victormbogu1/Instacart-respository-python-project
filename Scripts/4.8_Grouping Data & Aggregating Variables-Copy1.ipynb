{
 "cells": [
  {
   "cell_type": "code",
   "execution_count": 3,
   "id": "b8ee5b57",
   "metadata": {},
   "outputs": [],
   "source": [
    "# Import libraries\n",
    "import pandas as pd\n",
    "import numpy as np\n",
    "import os"
   ]
  },
  {
   "cell_type": "code",
   "execution_count": 4,
   "id": "54ee3f41",
   "metadata": {},
   "outputs": [],
   "source": [
    "path = r'C:\\Users\\Anwender\\Desktop\\29-11-2020 Instacart Basket Analysis'"
   ]
  },
  {
   "cell_type": "code",
   "execution_count": 5,
   "id": "03c59657",
   "metadata": {},
   "outputs": [
    {
     "ename": "MemoryError",
     "evalue": "",
     "output_type": "error",
     "traceback": [
      "\u001b[1;31m---------------------------------------------------------------------------\u001b[0m",
      "\u001b[1;31mMemoryError\u001b[0m                               Traceback (most recent call last)",
      "\u001b[1;32m~\\AppData\\Local\\Temp/ipykernel_5348/1912214435.py\u001b[0m in \u001b[0;36m<module>\u001b[1;34m\u001b[0m\n\u001b[1;32m----> 1\u001b[1;33m \u001b[0mdf_ords_prods_merged\u001b[0m \u001b[1;33m=\u001b[0m \u001b[0mpd\u001b[0m\u001b[1;33m.\u001b[0m\u001b[0mread_pickle\u001b[0m\u001b[1;33m(\u001b[0m\u001b[1;34mr'C:\\Users\\Anwender\\Desktop\\29-11-2020 Instacart Basket Analysis\\02 Data\\Prepared Data\\4.7_orders_products_merge_Deriving_New.pkl'\u001b[0m\u001b[1;33m)\u001b[0m\u001b[1;33m\u001b[0m\u001b[1;33m\u001b[0m\u001b[0m\n\u001b[0m",
      "\u001b[1;32m~\\anaconda3\\lib\\site-packages\\pandas\\io\\pickle.py\u001b[0m in \u001b[0;36mread_pickle\u001b[1;34m(filepath_or_buffer, compression, storage_options)\u001b[0m\n\u001b[0;32m    215\u001b[0m                     \u001b[1;31m# RawIOBase, BufferedIOBase, TextIOBase, TextIOWrapper, mmap]\";\u001b[0m\u001b[1;33m\u001b[0m\u001b[1;33m\u001b[0m\u001b[0m\n\u001b[0;32m    216\u001b[0m                     \u001b[1;31m# expected \"IO[bytes]\"\u001b[0m\u001b[1;33m\u001b[0m\u001b[1;33m\u001b[0m\u001b[0m\n\u001b[1;32m--> 217\u001b[1;33m                     \u001b[1;32mreturn\u001b[0m \u001b[0mpickle\u001b[0m\u001b[1;33m.\u001b[0m\u001b[0mload\u001b[0m\u001b[1;33m(\u001b[0m\u001b[0mhandles\u001b[0m\u001b[1;33m.\u001b[0m\u001b[0mhandle\u001b[0m\u001b[1;33m)\u001b[0m  \u001b[1;31m# type: ignore[arg-type]\u001b[0m\u001b[1;33m\u001b[0m\u001b[1;33m\u001b[0m\u001b[0m\n\u001b[0m\u001b[0;32m    218\u001b[0m             \u001b[1;32mexcept\u001b[0m \u001b[0mexcs_to_catch\u001b[0m\u001b[1;33m:\u001b[0m\u001b[1;33m\u001b[0m\u001b[1;33m\u001b[0m\u001b[0m\n\u001b[0;32m    219\u001b[0m                 \u001b[1;31m# e.g.\u001b[0m\u001b[1;33m\u001b[0m\u001b[1;33m\u001b[0m\u001b[0m\n",
      "\u001b[1;31mMemoryError\u001b[0m: "
     ]
    }
   ],
   "source": [
    "df_ords_prods_merged = pd.read_pickle(r'C:\\Users\\Anwender\\Desktop\\29-11-2020 Instacart Basket Analysis\\02 Data\\Prepared Data\\4.7_orders_products_merge_Deriving_New.pkl')"
   ]
  },
  {
   "cell_type": "code",
   "execution_count": null,
   "id": "de21b4c7",
   "metadata": {},
   "outputs": [],
   "source": [
    "df_ords_prods_merged.shape"
   ]
  },
  {
   "cell_type": "code",
   "execution_count": null,
   "id": "d63c6f39",
   "metadata": {
    "scrolled": true
   },
   "outputs": [],
   "source": [
    "# 2, In this Exercise, you learned how to find the aggregated mean of the “order_number” column grouped by “department_id” for a subset of your dataframe. Now, repeat this process for the entire dataframe.\n",
    "# Split the data into groups based on “department_id.”\n",
    "# Apply the agg() function to each group to obtain the mean values for the “order_number” column.\n",
    "df_ords_prods_merged.groupby('department_id').agg({'order_number': ['mean']})\n",
    "#  For instance, the command above could be replaced with a command that uses the mean() function to achieve the same results\n",
    "# df.groupby('department_id')['order_number'].mean()\n",
    "# df.groupby('department_id').order_number.mean()"
   ]
  },
  {
   "cell_type": "code",
   "execution_count": null,
   "id": "53139b89",
   "metadata": {},
   "outputs": [],
   "source": [
    "# 3, Analyze the result. How do the results for the entire dataframe differ from those of the subset? Include your comments in a markdown cell below the executed code\n",
    "# the output was different because we only define a part of the datafram by inputing this code df.groupby('department_id').agg({'order_number': ['mean']}) while the second result was from a whole dataframe."
   ]
  },
  {
   "cell_type": "code",
   "execution_count": null,
   "id": "1c3ccabd",
   "metadata": {},
   "outputs": [],
   "source": [
    "# 4, Follow the instructions in the Exercise for creating a loyalty flag for existing customers using the transform() and loc() functions.\n",
    "# Aggregating Data with transform()\n",
    "df_ords_prods_merged['max_order'] = df_ords_prods_merged.groupby(['user_id'])['order_number'].transform(np.max)"
   ]
  },
  {
   "cell_type": "code",
   "execution_count": null,
   "id": "1d5bc722",
   "metadata": {},
   "outputs": [],
   "source": [
    "# To create your flag, you’ll need some criteria. You can use the following:\n",
    "# If the maximum orders the user has made is over 40, then the customer will be labeled a “Loyal customer.”\n",
    "# If the maximum orders the user has made is over 10 but less than or equal to 40, then the customer will be labeled a “Regular customer.”\n",
    "# If the maximum orders the user has made is less than or equal to 10, then the customer will be labeled a “New customer.”"
   ]
  },
  {
   "cell_type": "code",
   "execution_count": null,
   "id": "e1a37590",
   "metadata": {},
   "outputs": [],
   "source": [
    "df_ords_prods_merged.head(20)"
   ]
  },
  {
   "cell_type": "code",
   "execution_count": null,
   "id": "52ff8f63",
   "metadata": {},
   "outputs": [],
   "source": [
    "df_ords_prods_merged.head(100)"
   ]
  },
  {
   "cell_type": "code",
   "execution_count": null,
   "id": "493014b8",
   "metadata": {},
   "outputs": [],
   "source": [
    "# Deriving Columns with loc()\n",
    "df_ords_prods_merged.loc[df_ords_prods_merged['max_order'] > 40, 'loyalty_flag'] = 'Loyal customer'"
   ]
  },
  {
   "cell_type": "code",
   "execution_count": null,
   "id": "d4cfe910",
   "metadata": {},
   "outputs": [],
   "source": [
    "df_ords_prods_merged.loc[(df_ords_prods_merged['max_order'] <= 40) & (df_ords_prods_merged['max_order'] > 10), 'loyalty_flag'] = 'Regular customer'"
   ]
  },
  {
   "cell_type": "code",
   "execution_count": null,
   "id": "cd3ea4fd",
   "metadata": {},
   "outputs": [],
   "source": [
    "df_ords_prods_merged.loc[df_ords_prods_merged['max_order'] <= 10, 'loyalty_flag'] = 'New customer'"
   ]
  },
  {
   "cell_type": "code",
   "execution_count": null,
   "id": "06406fe2",
   "metadata": {},
   "outputs": [],
   "source": [
    "df_ords_prods_merged['loyalty_flag'].value_counts(dropna = False)"
   ]
  },
  {
   "cell_type": "code",
   "execution_count": null,
   "id": "24f2012d",
   "metadata": {},
   "outputs": [],
   "source": [
    "df_ords_prods_merged.head(5)"
   ]
  },
  {
   "cell_type": "code",
   "execution_count": null,
   "id": "504b8f43",
   "metadata": {},
   "outputs": [],
   "source": [
    "# 5, The marketing team at Instacart wants to know whether there’s a difference between the spending habits of the three types of customers you identified. Use the loyalty flag you created and check the basic statistics of the product prices for each loyalty category (Loyal Customer, Regular Customer, and New Customer). What you’re trying to determine is whether the prices of products purchased by loyal customers differ from those purchased by regular or new customers.\n",
    "# multiple statistics at the same time\n",
    "df_ords_prods_merged.groupby('loyalty_flag').agg({'prices': ['mean', 'min', 'max']})\n"
   ]
  },
  {
   "cell_type": "code",
   "execution_count": null,
   "id": "a38ed404",
   "metadata": {},
   "outputs": [],
   "source": [
    "# 6, The team now wants to target different types of spenders in their marketing campaigns. This can be achieved by looking at the prices of the items people are buying. Create a spending flag for each user based on the average price across all their orders using the following criteria:\n",
    "# If the mean of the prices of products purchased by a user is lower than 10, then flag them as a “Low spender.”\n",
    "# If the mean of the prices of products purchased by a user is higher than or equal to 10, then flag them as a “High spender.”\n",
    "df_ords_prods_merged['spending'] = df_ords_prods_merged.groupby(['user_id'])['prices'].transform(np.mean)"
   ]
  },
  {
   "cell_type": "code",
   "execution_count": null,
   "id": "f95d830a",
   "metadata": {},
   "outputs": [],
   "source": [
    "df_ords_prods_merged.head(15)"
   ]
  },
  {
   "cell_type": "code",
   "execution_count": null,
   "id": "ba8a75cf",
   "metadata": {},
   "outputs": [],
   "source": [
    "df_ords_prods_merged.loc[df_ords_prods_merged['spending'] < 10, 'spending_flag'] = 'Low Spender'"
   ]
  },
  {
   "cell_type": "code",
   "execution_count": null,
   "id": "8e428a47",
   "metadata": {},
   "outputs": [],
   "source": [
    "df_ords_prods_merged.loc[df_ords_prods_merged['spending'] >= 10, 'spending_flag'] = 'High Spender'"
   ]
  },
  {
   "cell_type": "code",
   "execution_count": null,
   "id": "5e8363a2",
   "metadata": {},
   "outputs": [],
   "source": [
    "df_ords_prods_merged['spending_flag'].value_counts(dropna = False)"
   ]
  },
  {
   "cell_type": "code",
   "execution_count": null,
   "id": "a04f7921",
   "metadata": {},
   "outputs": [],
   "source": [
    "df_ords_prods_merged.head(5)"
   ]
  },
  {
   "cell_type": "code",
   "execution_count": null,
   "id": "4d27df01",
   "metadata": {},
   "outputs": [],
   "source": [
    "df_ords_prods_merged[['user_id', 'spending_flag', 'spending']].head(10)"
   ]
  },
  {
   "cell_type": "code",
   "execution_count": null,
   "id": "71d9385a",
   "metadata": {},
   "outputs": [],
   "source": [
    "# 7, In order to send relevant notifications to users within the app (for instance, asking users if they want to buy the same item again), the Instacart team wants you to determine frequent versus non-frequent customers. Create an order frequency flag that marks the regularity of a user’s ordering behavior according to the median in the “days_since_prior_order” column. The criteria for the flag should be as follows:\n",
    "# If the median of “days_since_prior_order” is higher than 20, then the customer should be labeled a “Non-frequent customer.”\n",
    "# If the median is higher than 10 and lower than or equal to 20, then the customer should be labeled a “Regular customer.”\n",
    "# If the median is lower than or equal to 10, then the customer should be labeled a “Frequent customer.”\n",
    "df_ords_prods_merged['frequency'] = df_ords_prods_merged.groupby(['user_id'])['days_since_prior_order'].transform(np.median)"
   ]
  },
  {
   "cell_type": "code",
   "execution_count": null,
   "id": "abefd97d",
   "metadata": {},
   "outputs": [],
   "source": [
    "df_ords_prods_merged.head(15)"
   ]
  },
  {
   "cell_type": "code",
   "execution_count": null,
   "id": "0f2339b1",
   "metadata": {},
   "outputs": [],
   "source": [
    "df_ords_prods_merged.loc[df_ords_prods_merged['frequency'] > 20, 'frequency_flag'] = 'Non-frequent customer'"
   ]
  },
  {
   "cell_type": "code",
   "execution_count": null,
   "id": "f1765038",
   "metadata": {},
   "outputs": [],
   "source": [
    "df_ords_prods_merged.loc[(df_ords_prods_merged['frequency'] <= 20) & (df_ords_prods_merged['frequency'] > 10), 'frequency_flag'] = 'Regular customer'"
   ]
  },
  {
   "cell_type": "code",
   "execution_count": null,
   "id": "3568b51e",
   "metadata": {},
   "outputs": [],
   "source": [
    "df_ords_prods_merged.loc[df_ords_prods_merged['frequency'] <= 10, 'frequency_flag'] = 'Frequent customer'"
   ]
  },
  {
   "cell_type": "code",
   "execution_count": null,
   "id": "898aa646",
   "metadata": {},
   "outputs": [],
   "source": [
    "df_ords_prods_merged['frequency_flag'].value_counts(dropna = False)"
   ]
  },
  {
   "cell_type": "code",
   "execution_count": null,
   "id": "82199bec",
   "metadata": {},
   "outputs": [],
   "source": [
    "df_ords_prods_merged.head(5)"
   ]
  },
  {
   "cell_type": "code",
   "execution_count": null,
   "id": "7b9f4a41",
   "metadata": {},
   "outputs": [],
   "source": [
    "# You should now see all 100 rows\n",
    "pd.options.display.max_rows = None"
   ]
  },
  {
   "cell_type": "code",
   "execution_count": null,
   "id": "7b009ad6",
   "metadata": {},
   "outputs": [],
   "source": [
    "df_ords_prods_merged.head(100)"
   ]
  },
  {
   "cell_type": "code",
   "execution_count": null,
   "id": "8e08b092",
   "metadata": {},
   "outputs": [],
   "source": [
    "df_ords_prods_merged.to_pickle(os.path.join(path, '02 Data','Prepared Data', '4.8_orders_products_merge_Grouping Data.pkl'))"
   ]
  },
  {
   "cell_type": "code",
   "execution_count": null,
   "id": "09be370c",
   "metadata": {},
   "outputs": [],
   "source": [
    "df_ords_prods_merged.to_csv(os.path.join(path, '02 Data', 'Prepared Data', '4.8_orders_products_merge_Grouping Data.csv'))"
   ]
  },
  {
   "cell_type": "code",
   "execution_count": null,
   "id": "f6968845",
   "metadata": {},
   "outputs": [],
   "source": []
  }
 ],
 "metadata": {
  "kernelspec": {
   "display_name": "Python 3 (ipykernel)",
   "language": "python",
   "name": "python3"
  },
  "language_info": {
   "codemirror_mode": {
    "name": "ipython",
    "version": 3
   },
   "file_extension": ".py",
   "mimetype": "text/x-python",
   "name": "python",
   "nbconvert_exporter": "python",
   "pygments_lexer": "ipython3",
   "version": "3.9.7"
  }
 },
 "nbformat": 4,
 "nbformat_minor": 5
}
