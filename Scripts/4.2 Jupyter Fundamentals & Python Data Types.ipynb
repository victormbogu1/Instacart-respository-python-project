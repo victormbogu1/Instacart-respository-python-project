{
 "cells": [
  {
   "cell_type": "markdown",
   "id": "03f69327",
   "metadata": {},
   "source": [
    "# 01. Importing libraries"
   ]
  },
  {
   "cell_type": "code",
   "execution_count": 2,
   "id": "586bb2f4",
   "metadata": {},
   "outputs": [],
   "source": [
    "# Import libraries\n",
    "import pandas as pd\n",
    "import numpy as np\n",
    "import os"
   ]
  },
  {
   "cell_type": "markdown",
   "id": "fe0dbf3d",
   "metadata": {},
   "source": [
    "## pandas, numpy and os were imported"
   ]
  },
  {
   "cell_type": "markdown",
   "id": "9651c44a",
   "metadata": {},
   "source": [
    "# 02. Data types"
   ]
  },
  {
   "cell_type": "code",
   "execution_count": 3,
   "id": "7c85c124",
   "metadata": {},
   "outputs": [],
   "source": [
    "x = 60"
   ]
  },
  {
   "cell_type": "code",
   "execution_count": 4,
   "id": "e0ff6d81",
   "metadata": {},
   "outputs": [
    {
     "data": {
      "text/plain": [
       "100"
      ]
     },
     "execution_count": 4,
     "metadata": {},
     "output_type": "execute_result"
    }
   ],
   "source": [
    "x + 40"
   ]
  },
  {
   "cell_type": "code",
   "execution_count": 5,
   "id": "2b1cb6b9",
   "metadata": {},
   "outputs": [
    {
     "data": {
      "text/plain": [
       "int"
      ]
     },
     "execution_count": 5,
     "metadata": {},
     "output_type": "execute_result"
    }
   ],
   "source": [
    "type(x)"
   ]
  },
  {
   "cell_type": "code",
   "execution_count": 7,
   "id": "83957c0a",
   "metadata": {},
   "outputs": [],
   "source": [
    "x = x + 10"
   ]
  },
  {
   "cell_type": "code",
   "execution_count": 8,
   "id": "25be759c",
   "metadata": {},
   "outputs": [
    {
     "name": "stdout",
     "output_type": "stream",
     "text": [
      "70\n"
     ]
    }
   ],
   "source": [
    "print(x)"
   ]
  },
  {
   "cell_type": "code",
   "execution_count": 9,
   "id": "bad0d7f2",
   "metadata": {},
   "outputs": [
    {
     "data": {
      "text/plain": [
       "100"
      ]
     },
     "execution_count": 9,
     "metadata": {},
     "output_type": "execute_result"
    }
   ],
   "source": [
    "x + 30"
   ]
  },
  {
   "cell_type": "code",
   "execution_count": 12,
   "id": "b1140515",
   "metadata": {},
   "outputs": [
    {
     "data": {
      "text/plain": [
       "130"
      ]
     },
     "execution_count": 12,
     "metadata": {},
     "output_type": "execute_result"
    }
   ],
   "source": [
    "x + 20 + 10"
   ]
  },
  {
   "cell_type": "code",
   "execution_count": 13,
   "id": "3e6d85b1",
   "metadata": {},
   "outputs": [
    {
     "name": "stdout",
     "output_type": "stream",
     "text": [
      "100\n"
     ]
    }
   ],
   "source": [
    "print(x)"
   ]
  },
  {
   "cell_type": "code",
   "execution_count": 14,
   "id": "227fec05",
   "metadata": {},
   "outputs": [],
   "source": [
    "x = x + 30"
   ]
  },
  {
   "cell_type": "code",
   "execution_count": 15,
   "id": "4504ad60",
   "metadata": {},
   "outputs": [
    {
     "name": "stdout",
     "output_type": "stream",
     "text": [
      "130\n"
     ]
    }
   ],
   "source": [
    "print(x)"
   ]
  },
  {
   "cell_type": "code",
   "execution_count": 16,
   "id": "98879a69",
   "metadata": {},
   "outputs": [
    {
     "data": {
      "text/plain": [
       "100"
      ]
     },
     "execution_count": 16,
     "metadata": {},
     "output_type": "execute_result"
    }
   ],
   "source": [
    "x - 30"
   ]
  },
  {
   "cell_type": "code",
   "execution_count": 17,
   "id": "37a57f2c",
   "metadata": {},
   "outputs": [],
   "source": [
    "x = 2.50"
   ]
  },
  {
   "cell_type": "code",
   "execution_count": 20,
   "id": "8db647fe",
   "metadata": {},
   "outputs": [
    {
     "name": "stdout",
     "output_type": "stream",
     "text": [
      "2.5\n"
     ]
    }
   ],
   "source": [
    "print(x)"
   ]
  },
  {
   "cell_type": "code",
   "execution_count": 23,
   "id": "a8403bb0",
   "metadata": {},
   "outputs": [
    {
     "data": {
      "text/plain": [
       "0.5"
      ]
     },
     "execution_count": 23,
     "metadata": {},
     "output_type": "execute_result"
    }
   ],
   "source": [
    "x / 5.00"
   ]
  },
  {
   "cell_type": "code",
   "execution_count": 24,
   "id": "64d8fc54",
   "metadata": {},
   "outputs": [
    {
     "data": {
      "text/plain": [
       "2.0"
      ]
     },
     "execution_count": 24,
     "metadata": {},
     "output_type": "execute_result"
    }
   ],
   "source": [
    "y/x"
   ]
  },
  {
   "cell_type": "code",
   "execution_count": 29,
   "id": "0f90ac13",
   "metadata": {},
   "outputs": [],
   "source": [
    "a = 'victor '"
   ]
  },
  {
   "cell_type": "code",
   "execution_count": 30,
   "id": "9cf69d87",
   "metadata": {},
   "outputs": [],
   "source": [
    "b = 'mbogu'"
   ]
  },
  {
   "cell_type": "code",
   "execution_count": 31,
   "id": "8f04b972",
   "metadata": {},
   "outputs": [
    {
     "data": {
      "text/plain": [
       "'victor mbogu'"
      ]
     },
     "execution_count": 31,
     "metadata": {},
     "output_type": "execute_result"
    }
   ],
   "source": [
    "a + b "
   ]
  },
  {
   "cell_type": "code",
   "execution_count": 33,
   "id": "5171e67a",
   "metadata": {},
   "outputs": [],
   "source": [
    "c = 'very soon i will become'"
   ]
  },
  {
   "cell_type": "code",
   "execution_count": 34,
   "id": "ada071e0",
   "metadata": {},
   "outputs": [],
   "source": [
    "d = 'a data analyst'"
   ]
  },
  {
   "cell_type": "code",
   "execution_count": 35,
   "id": "4ddfab70",
   "metadata": {},
   "outputs": [
    {
     "data": {
      "text/plain": [
       "'very soon i will becomea data analyst'"
      ]
     },
     "execution_count": 35,
     "metadata": {},
     "output_type": "execute_result"
    }
   ],
   "source": [
    "c + d"
   ]
  },
  {
   "cell_type": "code",
   "execution_count": null,
   "id": "fe318c3b",
   "metadata": {},
   "outputs": [],
   "source": []
  }
 ],
 "metadata": {
  "kernelspec": {
   "display_name": "Python 3 (ipykernel)",
   "language": "python",
   "name": "python3"
  },
  "language_info": {
   "codemirror_mode": {
    "name": "ipython",
    "version": 3
   },
   "file_extension": ".py",
   "mimetype": "text/x-python",
   "name": "python",
   "nbconvert_exporter": "python",
   "pygments_lexer": "ipython3",
   "version": "3.9.7"
  }
 },
 "nbformat": 4,
 "nbformat_minor": 5
}
